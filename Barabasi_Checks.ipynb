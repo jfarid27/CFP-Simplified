{
 "cells": [
  {
   "cell_type": "code",
   "execution_count": 6,
   "metadata": {
    "collapsed": false
   },
   "outputs": [
    {
     "data": {
      "text/plain": [
       "(array([   1.,    0.,    0.,    1.,    0.,    4.,   93.,  335.,  473.,   92.]),\n",
       " array([ 0.        ,  0.34339872,  0.68679744,  1.03019616,  1.37359488,\n",
       "         1.7169936 ,  2.06039232,  2.40379104,  2.74718976,  3.09058848,\n",
       "         3.4339872 ]),\n",
       " <a list of 10 Patch objects>)"
      ]
     },
     "execution_count": 6,
     "metadata": {},
     "output_type": "execute_result"
    },
    {
     "data": {
      "image/png": "[encoded data removed]",
      "text/plain": [
       "<matplotlib.figure.Figure at 0x10f6aed30>"
      ]
     },
     "metadata": {},
     "output_type": "display_data"
    }
   ],
   "source": [
    "%matplotlib inline\n",
    "\n",
    "import simulation.Networks.Networks as Networks\n",
    "import random\n",
    "import math\n",
    "import matplotlib\n",
    "import matplotlib.pyplot as plt\n",
    "\n",
    "random.seed(int(\"54e22d\", 16))\n",
    "\n",
    "network = Networks.BarabasiScaleFree(uniformRandomNumber = random.random)\n",
    "network.build(1000, lambda x: None)\n",
    "\n",
    "def addUp(key):\n",
    "    edges = network.edges[key]\n",
    "    return len(edges)\n",
    "\n",
    "data = map(addUp, list(network.edges.keys()))\n",
    "plt.hist([math.log(x) for x in data])"
   ]
  },
  {
   "cell_type": "code",
   "execution_count": null,
   "metadata": {
    "collapsed": true
   },
   "outputs": [],
   "source": []
  },
  {
   "cell_type": "code",
   "execution_count": null,
   "metadata": {
    "collapsed": true
   },
   "outputs": [],
   "source": []
  }
 ],
 "metadata": {
  "kernelspec": {
   "display_name": "Python 3",
   "language": "python",
   "name": "python3"
  },
  "language_info": {
   "codemirror_mode": {
    "name": "ipython",
    "version": 3
   },
   "file_extension": ".py",
   "mimetype": "text/x-python",
   "name": "python",
   "nbconvert_exporter": "python",
   "pygments_lexer": "ipython3",
   "version": "3.4.3"
  }
 },
 "nbformat": 4,
 "nbformat_minor": 0
}
