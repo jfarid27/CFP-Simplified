{
 "cells": [
  {
   "cell_type": "code",
   "execution_count": null,
   "metadata": {
    "collapsed": false
   },
   "outputs": [],
   "source": [
    "%matplotlib inline\n",
    "\n",
    "import simulation.Networks.Networks as Networks\n",
    "import random\n",
    "import math\n",
    "import matplotlib\n",
    "import matplotlib.pyplot as plt\n",
    "\n",
    "random.seed(int(\"54e22d\", 16))\n",
    "\n",
    "network = Networks.BarabasiScaleFree(uniformRandomNumber = random.random)\n",
    "network.build(100000, lambda x: None)\n",
    "\n",
    "def addUp(key):\n",
    "    edges = network.edges[key]\n",
    "    return len(edges)\n",
    "\n",
    "data = [math.log(x) for x in map(addUp, list(network.edges.keys()))]\n",
    "rankings = sorted(data, reverse=True)\n",
    "logXs =  [math.log(x + 1) for x in range(len(data))]\n",
    "plt.plot(logXs, rankings)"
   ]
  },
  {
   "cell_type": "code",
   "execution_count": null,
   "metadata": {
    "collapsed": true
   },
   "outputs": [],
   "source": []
  }
 ],
 "metadata": {
  "kernelspec": {
   "display_name": "Python 3",
   "language": "python",
   "name": "python3"
  },
  "language_info": {
   "codemirror_mode": {
    "name": "ipython",
    "version": 3
   },
   "file_extension": ".py",
   "mimetype": "text/x-python",
   "name": "python",
   "nbconvert_exporter": "python",
   "pygments_lexer": "ipython3",
   "version": "3.4.3"
  }
 },
 "nbformat": 4,
 "nbformat_minor": 0
}
