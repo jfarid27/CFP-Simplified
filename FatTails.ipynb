{
 "cells": [
  {
   "cell_type": "code",
   "execution_count": 1,
   "metadata": {
    "collapsed": false
   },
   "outputs": [],
   "source": [
    "%matplotlib inline\n",
    "\n",
    "import matplotlib\n",
    "import matplotlib.pyplot as plt\n",
    "\n",
    "import pandas as pd\n",
    "\n",
    "import random\n",
    "random.seed(int(\"54e22d\", 16))\n",
    "\n",
    "import analysis.Stats as Stats\n",
    "\n",
    "stats = Stats.Stats()\n",
    "\n",
    "cols = ['energy', 'sqEnergy', 'mag', 'sqMag']\n",
    "data = pd.read_csv('./data/small-world.random.10000.4.3.csv', header=None)\n",
    "data2 = pd.read_csv('./data/small-world.random.10000.4.8.csv', header=None)\n",
    "data.columns = cols\n",
    "data2.columns = cols"
   ]
  },
  {
   "cell_type": "code",
   "execution_count": 2,
   "metadata": {
    "collapsed": false
   },
   "outputs": [
    {
     "data": {
      "text/plain": [
       "(array([  1.00000000e+02,   3.89200000e+03,   3.13870000e+04,\n",
       "          1.26497000e+05,   6.95730000e+04,   5.70100000e+03,\n",
       "          4.51110000e+04,   4.64077000e+05,   2.28566000e+05,\n",
       "          2.50960000e+04]),\n",
       " array([-25442. , -23665.6, -21889.2, -20112.8, -18336.4, -16560. ,\n",
       "        -14783.6, -13007.2, -11230.8,  -9454.4,  -7678. ]),\n",
       " <a list of 10 Patch objects>)"
      ]
     },
     "execution_count": 2,
     "metadata": {},
     "output_type": "execute_result"
    },
    {
     "data": {
      "image/png": "[encoded data removed]",
      "text/plain": [
       "<matplotlib.figure.Figure at 0x109941a20>"
      ]
     },
     "metadata": {},
     "output_type": "display_data"
    }
   ],
   "source": [
    "plt.hist(data2['energy'])"
   ]
  },
  {
   "cell_type": "code",
   "execution_count": 12,
   "metadata": {
    "collapsed": false
   },
   "outputs": [
    {
     "data": {
      "text/plain": [
       "(array([  858.,  1636.,  2425.,  1659.,   930.,   767.,   663.,   440.,\n",
       "          254.,   368.]),\n",
       " array([-13304.816692, -13304.729094, -13304.641496, -13304.553898,\n",
       "        -13304.4663  , -13304.378702, -13304.291104, -13304.203506,\n",
       "        -13304.115908, -13304.02831 , -13303.940712]),\n",
       " <a list of 10 Patch objects>)"
      ]
     },
     "execution_count": 12,
     "metadata": {},
     "output_type": "execute_result"
    },
    {
     "data": {
      "image/png": "[encoded data removed]",
      "text/plain": [
       "<matplotlib.figure.Figure at 0x10c5fc630>"
      ]
     },
     "metadata": {},
     "output_type": "display_data"
    }
   ],
   "source": [
    "plt.hist(stats.bootstrapping(stats.mean, data2['energy'], 10000))"
   ]
  },
  {
   "cell_type": "code",
   "execution_count": null,
   "metadata": {
    "collapsed": true
   },
   "outputs": [],
   "source": []
  }
 ],
 "metadata": {
  "kernelspec": {
   "display_name": "Python 3",
   "language": "python",
   "name": "python3"
  },
  "language_info": {
   "codemirror_mode": {
    "name": "ipython",
    "version": 3
   },
   "file_extension": ".py",
   "mimetype": "text/x-python",
   "name": "python",
   "nbconvert_exporter": "python",
   "pygments_lexer": "ipython3",
   "version": "3.4.3"
  }
 },
 "nbformat": 4,
 "nbformat_minor": 0
}
