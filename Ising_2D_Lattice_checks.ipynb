{
 "cells": [
  {
   "cell_type": "code",
   "execution_count": 22,
   "metadata": {
    "collapsed": false
   },
   "outputs": [],
   "source": [
    "%matplotlib inline\n",
    "\n",
    "import random\n",
    "\n",
    "import matplotlib\n",
    "import matplotlib.pyplot as plt\n",
    "\n",
    "from math import sqrt\n",
    "\n",
    "import simulation.Networks as Network\n",
    "import simulation.Contagion as Contagion\n",
    "import simulation.System as System\n",
    "import simulation.MCMC as MCMC\n",
    "\n",
    "random.seed(int(\"54e22d\", 16))\n",
    "\n",
    "steps = 100000\n",
    "side = 16\n",
    "spins = side * side"
   ]
  },
  {
   "cell_type": "code",
   "execution_count": 23,
   "metadata": {
    "collapsed": false
   },
   "outputs": [],
   "source": [
    "def observables(system, observations):\n",
    "    E = 0.0\n",
    "    M = 0.0\n",
    "    S = system.wolffIsing.network.nodes\n",
    "    for k in range(system.wolffIsing.network.numNodes):\n",
    "        M += S[k]['spin']\n",
    "        E -=  S[k]['spin'] * sum([S[neighbor]['spin'] for neighbor in system.wolffIsing.network.edges[k]])\n",
    "    observations['absMeanEnergy'] += abs(0.5 * E) / (spins * steps)\n",
    "    observations['absMeanMagnetization'] += abs(M) / (spins * steps)\n",
    "    \n",
    "def randomSpin(x, y):\n",
    "    return {'spin': random.sample([-1, 1], 1)[0] }"
   ]
  },
  {
   "cell_type": "code",
   "execution_count": 24,
   "metadata": {
    "collapsed": true
   },
   "outputs": [],
   "source": [
    "def experiment(temperature):\n",
    "    network = Network.Lattice2DNP(side, side, {}, {})\n",
    "    network.build(randomSpin)\n",
    "    contagion = Contagion.WolffIsing(network, 1/float(temperature), random.random)\n",
    "    system = System.WolffIsing(contagion, random.randint)\n",
    "    montecarlo = MCMC.MCMC(system, random.random)\n",
    "    observations = {'absMeanEnergy': 0, 'absMeanMagnetization': 0}\n",
    "    montecarlo.simulate(observables, observations, steps)\n",
    "    return (observations['absMeanEnergy'], observations['absMeanMagnetization'])"
   ]
  },
  {
   "cell_type": "code",
   "execution_count": 25,
   "metadata": {
    "collapsed": false
   },
   "outputs": [],
   "source": [
    "temperatures = [float(x)/5 for x in range(1, 25)]\n",
    "results = [x for x in map(experiment, temperatures)]"
   ]
  },
  {
   "cell_type": "code",
   "execution_count": 26,
   "metadata": {
    "collapsed": false
   },
   "outputs": [],
   "source": [
    "mags = [x[1] for x in results]\n",
    "energies = [x[0] for x in results]"
   ]
  },
  {
   "cell_type": "code",
   "execution_count": 27,
   "metadata": {
    "collapsed": false
   },
   "outputs": [
    {
     "data": {
      "text/plain": [
       "[<matplotlib.lines.Line2D at 0x1083fed68>]"
      ]
     },
     "execution_count": 27,
     "metadata": {},
     "output_type": "execute_result"
    },
    {
     "data": {
      "image/png": "[encoded data removed]",
      "text/plain": [
       "<matplotlib.figure.Figure at 0x1082bf390>"
      ]
     },
     "metadata": {},
     "output_type": "display_data"
    }
   ],
   "source": [
    "plt.plot(temperatures, list(mags), marker=\"o\", linestyle='None')"
   ]
  },
  {
   "cell_type": "code",
   "execution_count": 28,
   "metadata": {
    "collapsed": false
   },
   "outputs": [
    {
     "data": {
      "text/plain": [
       "[<matplotlib.lines.Line2D at 0x108539128>]"
      ]
     },
     "execution_count": 28,
     "metadata": {},
     "output_type": "execute_result"
    },
    {
     "data": {
      "image/png": "[encoded data removed]",
      "text/plain": [
       "<matplotlib.figure.Figure at 0x10840fa90>"
      ]
     },
     "metadata": {},
     "output_type": "display_data"
    }
   ],
   "source": [
    "plt.plot(temperatures, list(energies), marker=\"o\", linestyle='None')"
   ]
  }
 ],
 "metadata": {
  "kernelspec": {
   "display_name": "Python 3",
   "language": "python",
   "name": "python3"
  },
  "language_info": {
   "codemirror_mode": {
    "name": "ipython",
    "version": 3
   },
   "file_extension": ".py",
   "mimetype": "text/x-python",
   "name": "python",
   "nbconvert_exporter": "python",
   "pygments_lexer": "ipython3",
   "version": "3.4.3"
  }
 },
 "nbformat": 4,
 "nbformat_minor": 0
}
